{
 "cells": [
  {
   "cell_type": "code",
   "execution_count": 16,
   "id": "d6d58715-3162-4159-9227-91bb647c0ba8",
   "metadata": {},
   "outputs": [],
   "source": [
    "import pandas as pd"
   ]
  },
  {
   "cell_type": "code",
   "execution_count": 17,
   "id": "bb64d3dd-f98e-4cd6-9d81-0fbd18cb3084",
   "metadata": {},
   "outputs": [],
   "source": [
    "data = pd.read_pickle(\"../data/output/melodies.pkl\")"
   ]
  },
  {
   "cell_type": "code",
   "execution_count": 22,
   "id": "bbbf46f5-9063-4d14-a997-9ce5521cc2d2",
   "metadata": {},
   "outputs": [],
   "source": [
    "melody = [f\"{i}{j}\" for i,j in data]"
   ]
  },
  {
   "cell_type": "code",
   "execution_count": 29,
   "id": "1d360eea-af1c-49a8-94a3-dae27ae2af08",
   "metadata": {},
   "outputs": [
    {
     "data": {
      "text/plain": [
       "[\"a''8\", 'g16', 'e,16', 'a,,4', 'f4', \"g''16\", 'f,16', \"e''8\", 'a,,8', \"b'16\"]"
      ]
     },
     "execution_count": 29,
     "metadata": {},
     "output_type": "execute_result"
    }
   ],
   "source": [
    "melody"
   ]
  },
  {
   "cell_type": "code",
   "execution_count": 30,
   "id": "4ff89076-fc18-4d31-9708-f0febb611bd6",
   "metadata": {},
   "outputs": [],
   "source": [
    "dic = {}\n",
    "for i, note in enumerate(melody):\n",
    "    if i//2 in dic:\n",
    "        dic[i//2].append(note)\n",
    "    else:\n",
    "        dic[i//2] = [note]"
   ]
  },
  {
   "cell_type": "code",
   "execution_count": 31,
   "id": "470ace2b-4052-4a12-aaee-80b247585401",
   "metadata": {},
   "outputs": [
    {
     "data": {
      "text/plain": [
       "{0: [\"a''8\", 'g16'],\n",
       " 1: ['e,16', 'a,,4'],\n",
       " 2: ['f4', \"g''16\"],\n",
       " 3: ['f,16', \"e''8\"],\n",
       " 4: ['a,,8', \"b'16\"]}"
      ]
     },
     "execution_count": 31,
     "metadata": {},
     "output_type": "execute_result"
    }
   ],
   "source": [
    "dic"
   ]
  },
  {
   "cell_type": "code",
   "execution_count": null,
   "id": "e489515c-0e4f-4c3f-9174-831331b42729",
   "metadata": {},
   "outputs": [],
   "source": []
  }
 ],
 "metadata": {
  "kernelspec": {
   "display_name": "Python 3 (ipykernel)",
   "language": "python",
   "name": "python3"
  },
  "language_info": {
   "codemirror_mode": {
    "name": "ipython",
    "version": 3
   },
   "file_extension": ".py",
   "mimetype": "text/x-python",
   "name": "python",
   "nbconvert_exporter": "python",
   "pygments_lexer": "ipython3",
   "version": "3.10.12"
  }
 },
 "nbformat": 4,
 "nbformat_minor": 5
}
